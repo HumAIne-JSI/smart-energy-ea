{
 "cells": [
  {
   "cell_type": "code",
   "execution_count": 1,
   "id": "7484a67f",
   "metadata": {},
   "outputs": [],
   "source": [
    "import pandas as pd\n",
    "from sklearn.model_selection import train_test_split\n",
    "from sklearn.ensemble import RandomForestClassifier\n",
    "from sklearn.metrics import accuracy_score, classification_report, confusion_matrix\n",
    "from sklearn.impute import SimpleImputer\n",
    "import numpy as np\n",
    "import pickle "
   ]
  },
  {
   "cell_type": "code",
   "execution_count": 2,
   "id": "f7eacd36",
   "metadata": {},
   "outputs": [],
   "source": [
    "# ------------------------------\n",
    "# 1. Load Data\n",
    "# ------------------------------\n",
    "data = pd.read_csv(\"simulation_security_labels_n-1.csv\")\n",
    "\n",
    "# Label encode the status\n",
    "data[\"status_binary\"] = data[\"status\"].map({\"secure\": 1, \"insecure\": 0})\n",
    "\n",
    "# Drop columns not used as features or explicitly specified\n",
    "columns_to_drop = [\n",
    "    \"timestamp\", \"status\", \"status_binary\", \n",
    "    \"max_line_loading_percent_basecase\",\n",
    "    \"min_bus_voltage_pu_basecase\",\n",
    "    \"max_bus_voltage_pu_basecase\",\n",
    "    \"max_line_loading_percent_contingency\",\n",
    "    \"min_bus_voltage_pu_contingency\",\n",
    "    \"max_bus_voltage_pu_contingency\"\n",
    "]\n",
    "features_df = data.drop(columns=columns_to_drop, axis=1, errors=\"ignore\")\n",
    "target = data[\"status_binary\"]"
   ]
  },
  {
   "cell_type": "code",
   "execution_count": 3,
   "id": "b5d52500",
   "metadata": {},
   "outputs": [],
   "source": [
    "# ------------------------------\n",
    "# 2. Train/Test Split\n",
    "# ------------------------------\n",
    "X_train, X_test, y_train, y_test = train_test_split(\n",
    "    features_df, target, \n",
    "    test_size=0.2, \n",
    "    random_state=42, \n",
    "    stratify=target\n",
    ")"
   ]
  },
  {
   "cell_type": "code",
   "execution_count": 5,
   "id": "b27d67e6",
   "metadata": {},
   "outputs": [
    {
     "data": {
      "text/plain": [
       "RandomForestClassifier(random_state=42)"
      ]
     },
     "execution_count": 5,
     "metadata": {},
     "output_type": "execute_result"
    }
   ],
   "source": [
    "# ------------------------------\n",
    "# 3. Train the Classifier\n",
    "# ------------------------------\n",
    "clf = RandomForestClassifier(n_estimators=100, random_state=42)\n",
    "clf.fit(X_train, y_train)"
   ]
  },
  {
   "cell_type": "code",
   "execution_count": 7,
   "id": "f49c2953",
   "metadata": {},
   "outputs": [
    {
     "name": "stdout",
     "output_type": "stream",
     "text": [
      "Accuracy: 0.9378563283922463\n",
      "Confusion Matrix:\n",
      "[[800  54]\n",
      " [ 55 845]]\n",
      "Classification Report:\n",
      "              precision    recall  f1-score   support\n",
      "\n",
      "           0       0.94      0.94      0.94       854\n",
      "           1       0.94      0.94      0.94       900\n",
      "\n",
      "    accuracy                           0.94      1754\n",
      "   macro avg       0.94      0.94      0.94      1754\n",
      "weighted avg       0.94      0.94      0.94      1754\n",
      "\n"
     ]
    }
   ],
   "source": [
    "# ------------------------------\n",
    "# 4. Evaluate\n",
    "# ------------------------------\n",
    "y_pred = clf.predict(X_test)\n",
    "\n",
    "acc = accuracy_score(y_test, y_pred)\n",
    "print(\"Accuracy:\", acc)\n",
    "\n",
    "cm = confusion_matrix(y_test, y_pred)\n",
    "print(\"Confusion Matrix:\")\n",
    "print(cm)\n",
    "\n",
    "print(\"Classification Report:\")\n",
    "print(classification_report(y_test, y_pred))"
   ]
  },
  {
   "cell_type": "code",
   "execution_count": 8,
   "id": "545c2db3",
   "metadata": {},
   "outputs": [],
   "source": [
    "# ------------------------------\n",
    "# 5. Save Model to Pickle\n",
    "# ------------------------------\n",
    "# Save the model and the imputer as separate pickle files\n",
    "with open(\"random_forest_model.pkl\", \"wb\") as model_file:\n",
    "    pickle.dump(clf, model_file)"
   ]
  },
  {
   "cell_type": "code",
   "execution_count": null,
   "id": "be3e94fc",
   "metadata": {},
   "outputs": [],
   "source": []
  }
 ],
 "metadata": {
  "kernelspec": {
   "display_name": "Python 3",
   "language": "python",
   "name": "python3"
  },
  "language_info": {
   "codemirror_mode": {
    "name": "ipython",
    "version": 3
   },
   "file_extension": ".py",
   "mimetype": "text/x-python",
   "name": "python",
   "nbconvert_exporter": "python",
   "pygments_lexer": "ipython3",
   "version": "3.11.3"
  }
 },
 "nbformat": 4,
 "nbformat_minor": 5
}
