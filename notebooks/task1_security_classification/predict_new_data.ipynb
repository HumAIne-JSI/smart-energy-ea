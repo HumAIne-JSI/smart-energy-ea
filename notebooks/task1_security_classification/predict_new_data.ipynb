{
 "cells": [
  {
   "cell_type": "code",
   "execution_count": 1,
   "metadata": {},
   "outputs": [],
   "source": [
    "import pandas as pd\n",
    "\n",
    "df = pd.read_csv(\"../data/X_test.csv\")\n",
    "df.head(20).to_csv(\"../data/new_data.csv\", index=False)"
   ]
  },
  {
   "cell_type": "code",
   "execution_count": null,
   "metadata": {},
   "outputs": [
    {
     "name": "stdout",
     "output_type": "stream",
     "text": [
      "✅ Model uspešno naložen.\n",
      "🔢 Naloženih primerov: 20\n",
      "📄 Napovedi shranjene v: ../data/predictions.csv\n"
     ]
    },
    {
     "name": "stderr",
     "output_type": "stream",
     "text": [
      "c:\\Users\\Gasper\\AppData\\Local\\Programs\\Python\\Python311\\Lib\\site-packages\\sklearn\\base.py:318: UserWarning: Trying to unpickle estimator DecisionTreeClassifier from version 1.0.2 when using version 1.2.2. This might lead to breaking code or invalid results. Use at your own risk. For more info please refer to:\n",
      "https://scikit-learn.org/stable/model_persistence.html#security-maintainability-limitations\n",
      "  warnings.warn(\n",
      "c:\\Users\\Gasper\\AppData\\Local\\Programs\\Python\\Python311\\Lib\\site-packages\\sklearn\\base.py:318: UserWarning: Trying to unpickle estimator RandomForestClassifier from version 1.0.2 when using version 1.2.2. This might lead to breaking code or invalid results. Use at your own risk. For more info please refer to:\n",
      "https://scikit-learn.org/stable/model_persistence.html#security-maintainability-limitations\n",
      "  warnings.warn(\n"
     ]
    }
   ],
   "source": [
    "# predict_new_data.py\n",
    "# -------------------------\n",
    "# Uporabi trenirani model za napovedovanje na novi množici\n",
    "\n",
    "import pandas as pd\n",
    "import joblib\n",
    "import os\n",
    "\n",
    "# -------------------------\n",
    "# 1. Pot do modela in podatkov\n",
    "# -------------------------\n",
    "MODEL_PATH = \"../models/random_forest_model.pkl\"  # spremeni, če imaš timestampirano verzijo\n",
    "NEW_DATA_PATH = \"../data/new_data.csv\"  # datoteka brez 'status' labela\n",
    "OUTPUT_PATH = \"../data/predictions.csv\"\n",
    "\n",
    "# -------------------------\n",
    "# 2. Naloži model\n",
    "# -------------------------\n",
    "if not os.path.exists(MODEL_PATH):\n",
    "    raise FileNotFoundError(f\"Model not found at {MODEL_PATH}\")\n",
    "\n",
    "model = joblib.load(MODEL_PATH)\n",
    "print(\"✅ Model uspešno naložen.\")\n",
    "\n",
    "# -------------------------\n",
    "# 3. Naloži podatke in pripravi\n",
    "# -------------------------\n",
    "X_new = pd.read_csv(NEW_DATA_PATH)\n",
    "\n",
    "if 'timestamp' in X_new.columns:\n",
    "    X_new = X_new.drop(columns=['timestamp'])\n",
    "\n",
    "print(f\"🔢 Naloženih primerov: {X_new.shape[0]}\")\n",
    "\n",
    "# -------------------------\n",
    "# 4. Preveri stolpce in očisti, če je treba\n",
    "# -------------------------\n",
    "model_features = model.feature_names_in_\n",
    "missing = [col for col in model_features if col not in X_new.columns]\n",
    "extra = [col for col in X_new.columns if col not in model_features]\n",
    "\n",
    "if missing:\n",
    "    print(\"⚠️ Manjkajoči stolpci v new_data:\", missing)\n",
    "    raise ValueError(\"Napoved ni mogoča zaradi manjkajočih značilnic.\")\n",
    "\n",
    "if extra:\n",
    "    print(\"ℹ️ Odstranjujem dodatne stolpce:\", extra)\n",
    "\n",
    "# Obreži na točno tiste stolpce, ki jih model pričakuje\n",
    "X_new = X_new[model_features]\n",
    "\n",
    "# -------------------------\n",
    "# 5. Napoved\n",
    "# -------------------------\n",
    "predictions = model.predict(X_new)\n",
    "\n",
    "# -------------------------\n",
    "# 6. Shrani rezultate\n",
    "# -------------------------\n",
    "pred_df = pd.DataFrame({\"predicted_status\": predictions})\n",
    "pred_df.to_csv(OUTPUT_PATH, index=False)\n",
    "\n",
    "print(f\"📄 Napovedi shranjene v: {OUTPUT_PATH}\")\n"
   ]
  },
  {
   "cell_type": "code",
   "execution_count": 3,
   "metadata": {},
   "outputs": [
    {
     "name": "stdout",
     "output_type": "stream",
     "text": [
      "📉 Manjkajoči stolpci: []\n",
      "🧪 Dodatni stolpci: ['max_line_loading_percent_basecase', 'min_bus_voltage_pu_basecase', 'max_bus_voltage_pu_basecase', 'max_line_loading_percent_contingency', 'min_bus_voltage_pu_contingency', 'max_bus_voltage_pu_contingency']\n"
     ]
    }
   ],
   "source": [
    "# Primerjaj feature-je z originalnim modelom\n",
    "model_features = model.feature_names_in_\n",
    "missing = [col for col in model_features if col not in X_new.columns]\n",
    "extra = [col for col in X_new.columns if col not in model_features]\n",
    "\n",
    "print(\"📉 Manjkajoči stolpci:\", missing)\n",
    "print(\"🧪 Dodatni stolpci:\", extra)\n"
   ]
  },
  {
   "cell_type": "code",
   "execution_count": null,
   "metadata": {},
   "outputs": [],
   "source": []
  }
 ],
 "metadata": {
  "kernelspec": {
   "display_name": "Python 3",
   "language": "python",
   "name": "python3"
  },
  "language_info": {
   "codemirror_mode": {
    "name": "ipython",
    "version": 3
   },
   "file_extension": ".py",
   "mimetype": "text/x-python",
   "name": "python",
   "nbconvert_exporter": "python",
   "pygments_lexer": "ipython3",
   "version": "3.11.3"
  }
 },
 "nbformat": 4,
 "nbformat_minor": 2
}
